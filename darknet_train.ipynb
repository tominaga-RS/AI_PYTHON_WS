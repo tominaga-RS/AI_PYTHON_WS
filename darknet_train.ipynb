{
  "nbformat": 4,
  "nbformat_minor": 0,
  "metadata": {
    "colab": {
      "name": "Templete",
      "provenance": [],
      "collapsed_sections": [],
      "include_colab_link": true
    },
    "kernelspec": {
      "name": "python3",
      "display_name": "Python 3"
    },
    "language_info": {
      "name": "python"
    },
    "accelerator": "GPU"
  },
  "cells": [
    {
      "cell_type": "markdown",
      "metadata": {
        "id": "view-in-github",
        "colab_type": "text"
      },
      "source": [
        "<a href=\"https://colab.research.google.com/github/tominaga-RS/AI_PYTHON_WS/blob/main/darknet_train.ipynb\" target=\"_parent\"><img src=\"https://colab.research.google.com/assets/colab-badge.svg\" alt=\"Open In Colab\"/></a>"
      ]
    },
    {
      "cell_type": "markdown",
      "metadata": {
        "id": "tmGv1Qc28Bq2"
      },
      "source": [
        "RSリモート環境では「ノートブックを新規作成」が不可のため、\n",
        "当ファイルをコピーしてお使いください。"
      ]
    },
    {
      "cell_type": "code",
      "source": [
        "!git clone https://github.com/AlexeyAB/darknet.git"
      ],
      "metadata": {
        "id": "RPUTsVsKxmSO",
        "outputId": "c3850318-dfe3-4164-b74a-500c0af1dc52",
        "colab": {
          "base_uri": "https://localhost:8080/"
        }
      },
      "execution_count": 5,
      "outputs": [
        {
          "output_type": "stream",
          "name": "stdout",
          "text": [
            "Cloning into 'darknet'...\n",
            "remote: Enumerating objects: 15420, done.\u001b[K\n",
            "remote: Total 15420 (delta 0), reused 0 (delta 0), pack-reused 15420\u001b[K\n",
            "Receiving objects: 100% (15420/15420), 14.02 MiB | 12.14 MiB/s, done.\n",
            "Resolving deltas: 100% (10362/10362), done.\n"
          ]
        }
      ]
    },
    {
      "cell_type": "markdown",
      "source": [
        "カレントディレクトを移動"
      ],
      "metadata": {
        "id": "WrR0NMN3yu-N"
      }
    },
    {
      "cell_type": "code",
      "source": [
        "%cd darknet"
      ],
      "metadata": {
        "id": "31DYNtL6yiqB",
        "outputId": "18f9f547-fd75-41d7-b273-64c776c0c7af",
        "colab": {
          "base_uri": "https://localhost:8080/"
        }
      },
      "execution_count": 12,
      "outputs": [
        {
          "output_type": "stream",
          "name": "stdout",
          "text": [
            "/content/darknet\n"
          ]
        }
      ]
    },
    {
      "cell_type": "markdown",
      "source": [
        ""
      ],
      "metadata": {
        "id": "Y0mX_HwZy4qb"
      }
    },
    {
      "cell_type": "code",
      "source": [
        "!sed -i -e s/GPU=0/GUP=1/ Makefile\n",
        "!sed -i -e s/CUDNN=0/CUDNN=1/ Makefile\n",
        "!sed -i -e s/OPENCV=0/OPENCV=1/ Makefile\n",
        "!sed -i -e s/LIBSO=0/LIBSO=1/ Makefile"
      ],
      "metadata": {
        "id": "lK18RPLFy3ab"
      },
      "execution_count": 5,
      "outputs": []
    },
    {
      "cell_type": "code",
      "source": [
        "!head -n 10 Makefile"
      ],
      "metadata": {
        "id": "1uH1Vaj91gpt",
        "outputId": "2e718dcf-d164-4e7a-a48f-e9c6ba212e22",
        "colab": {
          "base_uri": "https://localhost:8080/"
        }
      },
      "execution_count": 13,
      "outputs": [
        {
          "output_type": "stream",
          "name": "stdout",
          "text": [
            "GUP=1\n",
            "CUDNN=1\n",
            "CUDNN_HALF=0\n",
            "OPENCV=1\n",
            "AVX=0\n",
            "OPENMP=0\n",
            "LIBSO=1\n",
            "ZED_CAMERA=0\n",
            "ZED_CAMERA_v2_8=0\n",
            "\n"
          ]
        }
      ]
    },
    {
      "cell_type": "code",
      "source": [
        "!make"
      ],
      "metadata": {
        "id": "UEN09G8h1qIq",
        "outputId": "98b1a4b7-d905-45f1-c69a-5eff9c8bd890",
        "colab": {
          "base_uri": "https://localhost:8080/"
        }
      },
      "execution_count": 16,
      "outputs": [
        {
          "output_type": "stream",
          "name": "stdout",
          "text": [
            "chmod +x *.sh\n",
            "g++ -std=c++11 -std=c++11 -Iinclude/ -I3rdparty/stb/include -DOPENCV `pkg-config --cflags opencv4 2> /dev/null || pkg-config --cflags opencv` -DCUDNN -Wall -Wfatal-errors -Wno-unused-result -Wno-unknown-pragmas -fPIC -Ofast -DOPENCV -DCUDNN -I/usr/local/cudnn/include -fPIC -c ./src/image_opencv.cpp -o obj/image_opencv.o\n",
            "In file included from \u001b[01m\u001b[K./src/image.h:3:0\u001b[m\u001b[K,\n",
            "                 from \u001b[01m\u001b[K./src/image_opencv.h:4\u001b[m\u001b[K,\n",
            "                 from \u001b[01m\u001b[K./src/image_opencv.cpp:1\u001b[m\u001b[K:\n",
            "\u001b[01m\u001b[Kinclude/darknet.h:668:5:\u001b[m\u001b[K \u001b[01;31m\u001b[Kerror: \u001b[m\u001b[K‘\u001b[01m\u001b[KcudnnTensorDescriptor_t\u001b[m\u001b[K’ does not name a type\n",
            "     \u001b[01;31m\u001b[KcudnnTensorDescriptor_t\u001b[m\u001b[K srcTensorDesc, dstTensorDesc;\n",
            "     \u001b[01;31m\u001b[K^~~~~~~~~~~~~~~~~~~~~~~\u001b[m\u001b[K\n",
            "compilation terminated due to -Wfatal-errors.\n",
            "Makefile:182: recipe for target 'obj/image_opencv.o' failed\n",
            "make: *** [obj/image_opencv.o] Error 1\n"
          ]
        }
      ]
    },
    {
      "cell_type": "code",
      "source": [
        "!ls -1"
      ],
      "metadata": {
        "id": "88rMFf153pLN",
        "outputId": "b823bc13-5a14-47ee-92c7-d17b0556cb3b",
        "colab": {
          "base_uri": "https://localhost:8080/"
        }
      },
      "execution_count": 15,
      "outputs": [
        {
          "output_type": "stream",
          "name": "stdout",
          "text": [
            "3rdparty\n",
            "backup\n",
            "build\n",
            "build.ps1\n",
            "cfg\n",
            "cmake\n",
            "CMakeLists.txt\n",
            "DarknetConfig.cmake.in\n",
            "darknet_images.py\n",
            "darknet.py\n",
            "darknet_video.py\n",
            "data\n",
            "image_yolov3.sh\n",
            "image_yolov4.sh\n",
            "include\n",
            "json_mjpeg_streams.sh\n",
            "LICENSE\n",
            "Makefile\n",
            "net_cam_v3.sh\n",
            "net_cam_v4.sh\n",
            "obj\n",
            "README.md\n",
            "results\n",
            "scripts\n",
            "src\n",
            "vcpkg.json\n",
            "video_yolov3.sh\n",
            "video_yolov4.sh\n"
          ]
        }
      ]
    }
  ]
}